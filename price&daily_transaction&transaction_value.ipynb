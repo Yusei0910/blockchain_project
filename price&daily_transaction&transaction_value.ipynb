{
 "cells": [
  {
   "cell_type": "code",
   "execution_count": 1,
   "metadata": {},
   "outputs": [],
   "source": [
    "import plotly as p\n",
    "import plotly.plotly as py\n",
    "import plotly.graph_objs as go"
   ]
  },
  {
   "cell_type": "code",
   "execution_count": 2,
   "metadata": {},
   "outputs": [],
   "source": [
    "import requests\n",
    "import pandas\n",
    "import matplotlib.pyplot as plt\n",
    "import math"
   ]
  },
  {
   "cell_type": "code",
   "execution_count": 3,
   "metadata": {},
   "outputs": [],
   "source": [
    "res = requests.get('https://charts.bitcoin.com/api/chart/price')\n",
    "res2 = requests.get('https://charts.bitcoin.com/api/chart/daily-transactions')\n",
    "res3 = requests.get('https://charts.bitcoin.com/api/chart/transaction-value')"
   ]
  },
  {
   "cell_type": "code",
   "execution_count": 4,
   "metadata": {},
   "outputs": [],
   "source": [
    "d = res.json()\n",
    "d2 = res2.json()\n",
    "d3 = res3.json()"
   ]
  },
  {
   "cell_type": "code",
   "execution_count": 5,
   "metadata": {},
   "outputs": [],
   "source": [
    "df = pandas.DataFrame(d)\n",
    "df2 = pandas.DataFrame(d2)\n",
    "df3 = pandas.DataFrame(d3)"
   ]
  },
  {
   "cell_type": "code",
   "execution_count": 6,
   "metadata": {},
   "outputs": [],
   "source": [
    "date=[]\n",
    "price=[]\n",
    "for i in d:\n",
    "\ti[0] = pandas.to_datetime(i[0],unit='s')\n",
    "\tdate.append(i[0])\n",
    "\tprice.append(i[1])"
   ]
  },
  {
   "cell_type": "code",
   "execution_count": 7,
   "metadata": {},
   "outputs": [],
   "source": [
    "date=[]\n",
    "dailyTrans=[]\n",
    "for i in d2:\n",
    "\ti[0] = pandas.to_datetime(i[0],unit='s')\n",
    "\tdate.append(i[0])\n",
    "\tdailyTrans.append(i[1])"
   ]
  },
  {
   "cell_type": "code",
   "execution_count": 8,
   "metadata": {},
   "outputs": [],
   "source": [
    "date=[]\n",
    "transVal=[]\n",
    "for i in d3:\n",
    "\ti[0] = pandas.to_datetime(i[0],unit='s')\n",
    "\tdate.append(i[0])\n",
    "\ttransVal.append(i[1])"
   ]
  },
  {
   "cell_type": "code",
   "execution_count": 9,
   "metadata": {},
   "outputs": [
    {
     "data": {
      "text/html": [
       "<iframe id=\"igraph\" scrolling=\"no\" style=\"border:none;\" seamless=\"seamless\" src=\"https://plot.ly/~jim0910/14.embed\" height=\"525px\" width=\"100%\"></iframe>"
      ],
      "text/plain": [
       "<plotly.tools.PlotlyDisplay object>"
      ]
     },
     "execution_count": 9,
     "metadata": {},
     "output_type": "execute_result"
    }
   ],
   "source": [
    "trace11 = go.Scatter(\n",
    "    x=date,\n",
    "    y=price,\n",
    "    name='每日比特幣價格($USD)'\n",
    ")\n",
    "\n",
    "trace21 = go.Scatter(\n",
    "    x=date,\n",
    "    y=dailyTrans,\n",
    "    name='每日比特幣交易數',\n",
    "    yaxis='y2'\n",
    ")\n",
    "\n",
    "layout = go.Layout(\n",
    "    barmode='stack'\n",
    ")\n",
    "\n",
    "layout = go.Layout(\n",
    "    title='比特幣價格與比特幣交易數走勢圖',\n",
    "    yaxis=dict(\n",
    "        title='$USD'\n",
    "    ),\n",
    "    yaxis2=dict(\n",
    "        title='次',\n",
    "        titlefont=dict(\n",
    "            color='rgb(148, 103, 189)'\n",
    "        ),\n",
    "        tickfont=dict(\n",
    "            color='rgb(148, 103, 189)'\n",
    "        ),\n",
    "        overlaying='y',\n",
    "        side='right'\n",
    "    )\n",
    "    \n",
    ")\n",
    "data = [trace11, trace21]\n",
    "fig = go.Figure(data=data, layout=layout)\n",
    "py.iplot(fig, filename='stacked-bar')"
   ]
  },
  {
   "cell_type": "code",
   "execution_count": 10,
   "metadata": {},
   "outputs": [
    {
     "data": {
      "text/html": [
       "<iframe id=\"igraph\" scrolling=\"no\" style=\"border:none;\" seamless=\"seamless\" src=\"https://plot.ly/~jim0910/14.embed\" height=\"525px\" width=\"100%\"></iframe>"
      ],
      "text/plain": [
       "<plotly.tools.PlotlyDisplay object>"
      ]
     },
     "execution_count": 10,
     "metadata": {},
     "output_type": "execute_result"
    }
   ],
   "source": [
    "trace11 = go.Scatter(\n",
    "    x=date,\n",
    "    y=price,\n",
    "    name='每日比特幣價格($USD)'\n",
    ")\n",
    "\n",
    "trace31 = go.Scatter(\n",
    "    x=date,\n",
    "    y=transVal,\n",
    "    name='每日比特幣平均交易量',\n",
    "    yaxis='y2'\n",
    ")\n",
    "layout = go.Layout(\n",
    "    barmode='stack'\n",
    ")\n",
    "layout = go.Layout(\n",
    "    title='比特幣價格與比特幣平均交易量走勢圖',\n",
    "    yaxis=dict(\n",
    "        title='$USD'\n",
    "    ),\n",
    "    yaxis2=dict(\n",
    "        title='$USD',\n",
    "        titlefont=dict(\n",
    "            color='rgb(148, 103, 189)'\n",
    "        ),\n",
    "        tickfont=dict(\n",
    "            color='rgb(148, 103, 189)'\n",
    "        ),\n",
    "        overlaying='y',\n",
    "        side='right'\n",
    "    )\n",
    "    \n",
    ")\n",
    "data = [trace11, trace31]\n",
    "fig = go.Figure(data=data, layout=layout)\n",
    "py.iplot(fig, filename='stacked-bar')"
   ]
  },
  {
   "cell_type": "code",
   "execution_count": 11,
   "metadata": {},
   "outputs": [],
   "source": [
    "def mean(x):\n",
    "    return sum(x) / len(x)\n",
    "\n",
    "def de_mean(x):\n",
    "    x_bar = mean(x)\n",
    "    return [x_i - x_bar for x_i in x]\n",
    "\n",
    "\n",
    "def variance(x):\n",
    "    deviations = de_mean(x)\n",
    "    variance_x = 0\n",
    "    for d in deviations:\n",
    "        variance_x += d**2\n",
    "    variance_x /= len(x)\n",
    "    return variance_x\n",
    "\n",
    "\n",
    "def dot(x, y):\n",
    "    dot_product = sum(v_i * w_i for v_i, w_i in zip(x, y))\n",
    "    dot_product /= (len(x))\n",
    "    return dot_product\n",
    "\n",
    "def correlation(x, y):\n",
    "    variance_x = variance(x)\n",
    "    variance_y = variance(y)\n",
    "    sd_x = math.sqrt(variance_x)\n",
    "    sd_y = math.sqrt(variance_y)\n",
    "    dot_xy = dot(de_mean(x), de_mean(y))\n",
    "    return dot_xy/(sd_x*sd_y)"
   ]
  },
  {
   "cell_type": "code",
   "execution_count": 12,
   "metadata": {},
   "outputs": [
    {
     "data": {
      "text/plain": [
       "0.5693975165531331"
      ]
     },
     "execution_count": 12,
     "metadata": {},
     "output_type": "execute_result"
    }
   ],
   "source": [
    "correlation(price, dailyTrans)"
   ]
  },
  {
   "cell_type": "code",
   "execution_count": 15,
   "metadata": {},
   "outputs": [
    {
     "data": {
      "text/html": [
       "<iframe id=\"igraph\" scrolling=\"no\" style=\"border:none;\" seamless=\"seamless\" src=\"https://plot.ly/~jim0910/8.embed\" height=\"525px\" width=\"100%\"></iframe>"
      ],
      "text/plain": [
       "<plotly.tools.PlotlyDisplay object>"
      ]
     },
     "execution_count": 15,
     "metadata": {},
     "output_type": "execute_result"
    }
   ],
   "source": [
    "trace1 = go.Scatter(\n",
    "    x = price,\n",
    "    y = dailyTrans,\n",
    "    mode = 'markers')\n",
    "data4 = [trace1]\n",
    "py.iplot(data4, filename='basic-scatter')"
   ]
  },
  {
   "cell_type": "code",
   "execution_count": 16,
   "metadata": {},
   "outputs": [
    {
     "data": {
      "text/plain": [
       "0.9118304046585666"
      ]
     },
     "execution_count": 16,
     "metadata": {},
     "output_type": "execute_result"
    }
   ],
   "source": [
    "correlation(price, transVal)"
   ]
  },
  {
   "cell_type": "code",
   "execution_count": 17,
   "metadata": {},
   "outputs": [
    {
     "data": {
      "text/html": [
       "<iframe id=\"igraph\" scrolling=\"no\" style=\"border:none;\" seamless=\"seamless\" src=\"https://plot.ly/~jim0910/8.embed\" height=\"525px\" width=\"100%\"></iframe>"
      ],
      "text/plain": [
       "<plotly.tools.PlotlyDisplay object>"
      ]
     },
     "execution_count": 17,
     "metadata": {},
     "output_type": "execute_result"
    }
   ],
   "source": [
    "trace2 = go.Scatter(\n",
    "    x = price,\n",
    "    y = transVal,\n",
    "    mode = 'markers'\n",
    ")\n",
    "\n",
    "data5 = [trace2]\n",
    "py.iplot(data5, filename='basic-scatter')"
   ]
  },
  {
   "cell_type": "code",
   "execution_count": null,
   "metadata": {},
   "outputs": [],
   "source": []
  }
 ],
 "metadata": {
  "kernelspec": {
   "display_name": "Python 3",
   "language": "python",
   "name": "python3"
  },
  "language_info": {
   "codemirror_mode": {
    "name": "ipython",
    "version": 3
   },
   "file_extension": ".py",
   "mimetype": "text/x-python",
   "name": "python",
   "nbconvert_exporter": "python",
   "pygments_lexer": "ipython3",
   "version": "3.6.4"
  }
 },
 "nbformat": 4,
 "nbformat_minor": 2
}
